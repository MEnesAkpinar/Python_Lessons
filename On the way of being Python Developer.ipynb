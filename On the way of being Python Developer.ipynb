{
 "cells": [
  {
   "cell_type": "markdown",
   "id": "c107d9e4",
   "metadata": {},
   "source": [
    "# On the way of being Python Developer..."
   ]
  },
  {
   "cell_type": "markdown",
   "id": "78bec9c5",
   "metadata": {},
   "source": [
    "### Odd or Even Number"
   ]
  },
  {
   "cell_type": "code",
   "execution_count": 80,
   "id": "fefd94a6",
   "metadata": {},
   "outputs": [
    {
     "name": "stdout",
     "output_type": "stream",
     "text": [
      "which number do you want to check ?45\n",
      "The number is a odd number\n"
     ]
    }
   ],
   "source": [
    "number = int(input(\"which number do you want to check ?\"))\n",
    "if number % 2 == 0 :\n",
    "    print(\"The number is a even number\")\n",
    "else:\n",
    "    print(\"The number is a odd number\")"
   ]
  },
  {
   "cell_type": "markdown",
   "id": "fad51cdd",
   "metadata": {},
   "source": [
    "### Leap Number"
   ]
  },
  {
   "cell_type": "code",
   "execution_count": 81,
   "id": "8dcd21f4",
   "metadata": {},
   "outputs": [
    {
     "name": "stdout",
     "output_type": "stream",
     "text": [
      "Which year do you want to check ?2100\n",
      "Not Leap Year\n"
     ]
    }
   ],
   "source": [
    "year = int(input(\"Which year do you want to check ?\"))\n",
    "\n",
    "if year % 4 == 0:\n",
    "    if year % 100 != 0:\n",
    "        print(\"Leap Year\")\n",
    "    elif year % 100 == 0 and year % 400 == 0:\n",
    "        print(\"Leap Year\")\n",
    "    else:\n",
    "        print(\"Not Leap Year\")\n",
    "else:\n",
    "    print(\"Not Leap Year\")\n",
    "   "
   ]
  },
  {
   "cell_type": "markdown",
   "id": "669aa63c",
   "metadata": {},
   "source": [
    "### Pizza Order"
   ]
  },
  {
   "cell_type": "code",
   "execution_count": null,
   "id": "bf7363ae",
   "metadata": {},
   "outputs": [],
   "source": [
    "Small Pizza: $15\n",
    "\n",
    "Medium Pizza: $20\n",
    "    \n",
    "Large Pizza: $25\n",
    "    \n",
    "Pepperoni for Small Pizza: +$2\n",
    "    \n",
    "Pepperoni for Medium or Large Pizza: +$3\n",
    "    \n",
    "Extra cheese for any size pizza: + $1"
   ]
  },
  {
   "cell_type": "code",
   "execution_count": 83,
   "id": "bf08f0da",
   "metadata": {},
   "outputs": [
    {
     "name": "stdout",
     "output_type": "stream",
     "text": [
      "Welcome the Python Pizza Deliveries\n",
      "Small Size: 'S'\n",
      "Medium Size: 'M'\n",
      "Large Size: 'L'\n",
      "Please enter the your size of Pizza:y\n",
      "Yes :'Y'  or No : 'N'\n",
      "Do you want to add Pepperoni ?n\n",
      "Yes :'Y'  or No : 'N'\n",
      "Do you want extra cheese ?n\n",
      "Please enter correct size\n"
     ]
    }
   ],
   "source": [
    "print(\"Welcome the Python Pizza Deliveries\")\n",
    "\n",
    "size = input(\"Small Size: 'S'\\nMedium Size: 'M'\\nLarge Size: 'L'\\nPlease enter the your size of Pizza:\")\n",
    "\n",
    "add_pepperoni = input(\"Yes :'Y'  or No : 'N'\\nDo you want to add Pepperoni ?\")\n",
    "        \n",
    "extra_cheese = input(\"Yes :'Y'  or No : 'N'\\nDo you want extra cheese ?\")\n",
    "\n",
    "S = 15\n",
    "M = 20\n",
    "L = 25\n",
    "\n",
    "P_S = 2\n",
    "P_M_L = 3\n",
    "\n",
    "E = 1\n",
    "\n",
    "\n",
    "\n",
    "if size == 'S':\n",
    "    if add_pepperoni == 'Y':\n",
    "        if extra_cheese == 'Y':\n",
    "            print(f\"Your final bill is: ${S + P_S + E}\")\n",
    "        else:\n",
    "            print(f\"Your final bill is: ${S + P_S}\")\n",
    "    elif add_pepperoni == 'N' and extra_cheese == 'Y':\n",
    "        print(f\"Your final bill is: ${S + E}\")\n",
    "    else:\n",
    "        print(f\"Your final bill is: ${S}\")\n",
    "\n",
    "elif size == 'M':\n",
    "    if add_pepperoni == 'Y':\n",
    "        if extra_cheese == 'Y':\n",
    "            print(f\"Your final bill is: ${M + P_M_L + E}\")\n",
    "        else:\n",
    "            print(f\"Your final bill is: ${M + P_M_L}\")\n",
    "    elif add_pepperoni == 'N' and extra_cheese == 'Y':\n",
    "        print(f\"Your final bill is: ${M + E}\")\n",
    "    else:\n",
    "        print(f\"Your final bill is: ${M}\")\n",
    "    \n",
    "elif size == 'L':\n",
    "    if add_pepperoni == 'Y':\n",
    "        if extra_cheese == 'Y':\n",
    "            print(f\"Your final bill is: ${L + P_M_L + E}\")\n",
    "        else:\n",
    "            print(f\"Your final bill is: ${L + P_M_L}\")\n",
    "    elif add_pepperoni == 'N' and extra_cheese == 'Y':\n",
    "        print(f\"Your final bill is: ${L + E}\")\n",
    "    else:\n",
    "        print(f\"Your final bill is: ${L}\")\n",
    "    \n",
    "else:\n",
    "    print(\"Please enter correct size\")"
   ]
  },
  {
   "cell_type": "code",
   "execution_count": null,
   "id": "08ee4be1",
   "metadata": {},
   "outputs": [],
   "source": [
    "# Below code is clearer. Check please..."
   ]
  },
  {
   "cell_type": "code",
   "execution_count": 88,
   "id": "57778f57",
   "metadata": {},
   "outputs": [
    {
     "name": "stdout",
     "output_type": "stream",
     "text": [
      "Welcome the Python Pizza Deliveries\n",
      "Small Size: 'S'\n",
      "Medium Size: 'M'\n",
      "Large Size: 'L'\n",
      "Please enter the your size of Pizza:M\n",
      "Yes :'Y'  or No : 'N'\n",
      "Do you want to add Pepperoni ?Y\n",
      "Yes :'Y'  or No : 'N'\n",
      "Do you want extra cheese ?N\n",
      "Your final bill is: $23\n"
     ]
    }
   ],
   "source": [
    "print(\"Welcome the Python Pizza Deliveries\")\n",
    "\n",
    "size = input(\"Small Size: 'S'\\nMedium Size: 'M'\\nLarge Size: 'L'\\nPlease enter the your size of Pizza:\")\n",
    "\n",
    "add_pepperoni = input(\"Yes :'Y'  or No : 'N'\\nDo you want to add Pepperoni ?\")\n",
    "        \n",
    "extra_cheese = input(\"Yes :'Y'  or No : 'N'\\nDo you want extra cheese ?\")\n",
    "\n",
    "\n",
    "\n",
    "bill = 0\n",
    "\n",
    "\n",
    "if size == 'S':\n",
    "    bill += 15\n",
    "elif size == 'M':\n",
    "    bill += 20\n",
    "else:\n",
    "    bill += 25\n",
    "    \n",
    "if add_pepperoni == 'Y':\n",
    "    if size == 'S':   \n",
    "        bill += 2\n",
    "    else:\n",
    "        bill += 3\n",
    "        \n",
    "if extra_cheese == 'Y':\n",
    "    bill += 1\n",
    "    \n",
    "print(f\"Your final bill is: ${bill}\")"
   ]
  },
  {
   "cell_type": "markdown",
   "id": "ac5ffeeb",
   "metadata": {},
   "source": [
    "### Love Calculator"
   ]
  },
  {
   "cell_type": "code",
   "execution_count": 4,
   "id": "3672b4b0",
   "metadata": {},
   "outputs": [
    {
     "name": "stdout",
     "output_type": "stream",
     "text": [
      "What is your name ?mustafa\n",
      "What is their name ?enes\n",
      "Your score is 42, you are alright together.\n"
     ]
    }
   ],
   "source": [
    "name1 = input(\"What is your name ?\")\n",
    "\n",
    "name2 = input(\"What is their name ?\")\n",
    "\n",
    "\n",
    "list = []                                                 # combined_names = name1 + name2\n",
    "\n",
    "list.extend(name1.lower() + name2.lower())                # lower_names = combined_names.lower()\n",
    "\n",
    "\n",
    "T = list.count('t')\n",
    "R = list.count('r')\n",
    "U = list.count('u')\n",
    "E = list.count('e')\n",
    "\n",
    "\n",
    "L = list.count('l')\n",
    "O = list.count('o')\n",
    "V = list.count('v')\n",
    "E = list.count('e')\n",
    "\n",
    "count1 = T + R + U + E\n",
    "\n",
    "count2 = L + O + V + E\n",
    "\n",
    "score = int(str(count1) + str(count2))\n",
    "\n",
    "if score < 10 or score > 90:\n",
    "    print(f\"Your score is {score}, you go together like coke and mentos.\")\n",
    "elif score >= 40 and score <= 50:\n",
    "    print(f\"Your score is {score}, you are alright together.\")\n",
    "else:\n",
    "    print(f\"Your score is {score}\")\n"
   ]
  },
  {
   "cell_type": "markdown",
   "id": "589aa769",
   "metadata": {},
   "source": [
    "### Treasure Island"
   ]
  },
  {
   "cell_type": "code",
   "execution_count": 17,
   "id": "dad1b6fb",
   "metadata": {},
   "outputs": [
    {
     "name": "stdout",
     "output_type": "stream",
     "text": [
      "\n",
      "*******************************************************************************\n",
      "          |                   |                  |                     |\n",
      " _________|________________.=\"\"_;=.______________|_____________________|_______\n",
      "|                   |  ,-\"_,=\"\"     `\"=.|                  |\n",
      "|___________________|__\"=._o`\"-._        `\"=.______________|___________________\n",
      "          |                `\"=._o`\"=._      _`\"=._                     |\n",
      " _________|_____________________:=._o \"=._.\"_.-=\"'\"=.__________________|_______\n",
      "|                   |    __.--\" , ; `\"=._o.\" ,-\"\"\"-._ \".   |\n",
      "|___________________|_._\"  ,. .` ` `` ,  `\"-._\"-._   \". '__|___________________\n",
      "          |           |o`\"=._` , \"` `; .\". ,  \"-._\"-._; ;              |\n",
      " _________|___________| ;`-.o`\"=._; .\" ` '`.\"\\` . \"-._ /_______________|_______\n",
      "|                   | |o;    `\"-.o`\"=._``  '` \" ,__.--o;   |\n",
      "|___________________|_| ;     (#) `-.o `\"=.`_.--\"_o.-; ;___|___________________\n",
      "____/______/______/___|o;._    \"      `\".o|o_.--\"    ;o;____/______/______/____\n",
      "/______/______/______/_\"=._o--._        ; | ;        ; ;/______/______/______/_\n",
      "____/______/______/______/__\"=._o--._   ;o|o;     _._;o;____/______/______/____\n",
      "/______/______/______/______/____\"=._o._; | ;_.--\"o.--\"_/______/______/______/_\n",
      "____/______/______/______/______/_____\"=.o|o_.--\"\"___/______/______/______/____\n",
      "/______/______/______/______/______/______/______/______/______/______/_____ /\n",
      "*******************************************************************************\n",
      "\n",
      "Welcome to Treasure Island.\n",
      "Your mission is to find the treasure.\n",
      "You're at a cross road. Where do you want to go? Type \"left\" or \"right\" \n",
      "left\n",
      "Yess.. You are great. Keep going.\n",
      "Let's second obstacle. You've come to a lake. There is an island in the middle of the lake. Type 'wait' to wait for a boat. Type 'swim' to swim across.\n",
      "wait\n",
      "Awasome... You are going very well...\n",
      "You arrive at the island unharmed. There is a house with 3 doors. One 'red', one 'yellow' and one 'blue'. Which colour do you choose?\n",
      "yellow\n",
      "Bravooo... You win...\n"
     ]
    }
   ],
   "source": [
    "print('''\n",
    "*******************************************************************************\n",
    "          |                   |                  |                     |\n",
    " _________|________________.=\"\"_;=.______________|_____________________|_______\n",
    "|                   |  ,-\"_,=\"\"     `\"=.|                  |\n",
    "|___________________|__\"=._o`\"-._        `\"=.______________|___________________\n",
    "          |                `\"=._o`\"=._      _`\"=._                     |\n",
    " _________|_____________________:=._o \"=._.\"_.-=\"'\"=.__________________|_______\n",
    "|                   |    __.--\" , ; `\"=._o.\" ,-\"\"\"-._ \".   |\n",
    "|___________________|_._\"  ,. .` ` `` ,  `\"-._\"-._   \". '__|___________________\n",
    "          |           |o`\"=._` , \"` `; .\". ,  \"-._\"-._; ;              |\n",
    " _________|___________| ;`-.o`\"=._; .\" ` '`.\"\\` . \"-._ /_______________|_______\n",
    "|                   | |o;    `\"-.o`\"=._``  '` \" ,__.--o;   |\n",
    "|___________________|_| ;     (#) `-.o `\"=.`_.--\"_o.-; ;___|___________________\n",
    "____/______/______/___|o;._    \"      `\".o|o_.--\"    ;o;____/______/______/____\n",
    "/______/______/______/_\"=._o--._        ; | ;        ; ;/______/______/______/_\n",
    "____/______/______/______/__\"=._o--._   ;o|o;     _._;o;____/______/______/____\n",
    "/______/______/______/______/____\"=._o._; | ;_.--\"o.--\"_/______/______/______/_\n",
    "____/______/______/______/______/_____\"=.o|o_.--\"\"___/______/______/______/____\n",
    "/______/______/______/______/______/______/______/______/______/______/_____ /\n",
    "*******************************************************************************\n",
    "''')\n",
    "\n",
    "print(\"Welcome to Treasure Island.\")\n",
    "print(\"Your mission is to find the treasure.\")\n",
    "\n",
    "target1 = input('You\\'re at a cross road. Where do you want to go? Type \"left\" or \"right\" \\n').lower()\n",
    "if target1 == 'left':\n",
    "    print('Yess.. You\\'re great. Keep going.')\n",
    "    target2 = input(\"Let's second obstacle. You've come to a lake. There is an island in the middle of the lake. Type 'wait' to wait for a boat. Type 'swim' to swim across.\\n\").lower()\n",
    "    if target2 == 'wait':\n",
    "        print(\"Awasome... You are going very well...\")\n",
    "        target3 = input(\"You arrive at the island unharmed. There is a house with 3 doors. One 'red', one 'yellow' and one 'blue'. Which colour do you choose?\\n\").lower()\n",
    "        if target3 == 'red':\n",
    "            print(\"Burned by fire.\\nGame Over!!!\")\n",
    "        elif target3 == 'blue':\n",
    "            print(\"Eaten by beasts.\\nGame Over!!!\")\n",
    "        elif target3 == 'yellow':\n",
    "            print(\"Bravooo... You win...\")\n",
    "            \n",
    "        else:\n",
    "            print(\"Game Over...\")\n",
    "    else:\n",
    "        print(\"Attacked by trout.\\nGame Over!!!\")\n",
    "else:\n",
    "    print(\"Fall into a hole.\\nGame Over!!!\")"
   ]
  },
  {
   "cell_type": "markdown",
   "id": "3273784a",
   "metadata": {},
   "source": [
    "## Randomisation and Python lists"
   ]
  },
  {
   "cell_type": "code",
   "execution_count": 24,
   "id": "94070bd6",
   "metadata": {},
   "outputs": [
    {
     "name": "stdout",
     "output_type": "stream",
     "text": [
      "Heads\n"
     ]
    }
   ],
   "source": [
    "import random\n",
    "\n",
    "\n",
    "random_size = random.randint(0,1)\n",
    "\n",
    "if random_size == 1:\n",
    "    print(\"Heads\")\n",
    "else:\n",
    "    print(\"Tails\")"
   ]
  },
  {
   "cell_type": "markdown",
   "id": "82c7f12a",
   "metadata": {},
   "source": [
    "### Treasue Map"
   ]
  },
  {
   "cell_type": "code",
   "execution_count": 23,
   "id": "3e7d8227",
   "metadata": {},
   "outputs": [
    {
     "name": "stdout",
     "output_type": "stream",
     "text": [
      "['⬜️', '⬜️', '⬜️']\n",
      "['⬜️', '⬜️', '⬜️']\n",
      "['⬜️', '⬜️', '⬜️']\n",
      "Where do you want to put the treasure? 32\n",
      "['⬜️', '⬜️', '⬜️']\n",
      "['⬜️', '⬜️', 'X']\n",
      "['⬜️', '⬜️', '⬜️']\n"
     ]
    }
   ],
   "source": [
    "row1 = [\"⬜️\",\"⬜️\",\"⬜️\"]\n",
    "row2 = [\"⬜️\",\"⬜️\",\"⬜️\"]\n",
    "row3 = [\"⬜️\",\"⬜️\",\"⬜️\"]\n",
    "\n",
    "map = [row1, row2, row3]\n",
    "\n",
    "\n",
    "\n",
    "print(f\"{row1}\\n{row2}\\n{row3}\")\n",
    "\n",
    "position = input(\"Where do you want to put the treasure? \")\n",
    "\n",
    "horizonal = position[0]    \n",
    "\n",
    "vertical = position[1]\n",
    "\n",
    "selected_row = map[int(vertical) - 1]               #map[int(vertical) - 1][int(horizonal) - 1] =\"X\"\n",
    "selected_row[int(horizonal) - 1] = \"X\"\n",
    "\n",
    "print(f\"{row1}\\n{row2}\\n{row3}\")"
   ]
  },
  {
   "cell_type": "markdown",
   "id": "a9a1b382",
   "metadata": {},
   "source": [
    "### Rock Paper Scissors "
   ]
  },
  {
   "cell_type": "code",
   "execution_count": 18,
   "id": "d2065563",
   "metadata": {},
   "outputs": [
    {
     "name": "stdout",
     "output_type": "stream",
     "text": [
      "What do you choose? Type 0 for Rock, 1 for Paper or 2 for Scissors.2\n",
      "You chose..\n",
      "\n",
      "\n",
      "    _______\n",
      "---'   ____)____\n",
      "          ______)\n",
      "       __________)\n",
      "      (____)\n",
      "---.__(___)\n",
      "\n",
      "PC chose..\n",
      "\n",
      "\n",
      "    _______\n",
      "---'   ____)____\n",
      "          ______)\n",
      "          _______)\n",
      "         _______)\n",
      "---.__________)\n",
      "\n",
      "You win..\n"
     ]
    }
   ],
   "source": [
    "import random\n",
    "\n",
    "rock = '''\n",
    "    _______\n",
    "---'   ____)\n",
    "      (_____)\n",
    "      (_____)\n",
    "      (____)\n",
    "---.__(___)\n",
    "'''\n",
    "\n",
    "paper = '''\n",
    "    _______\n",
    "---'   ____)____\n",
    "          ______)\n",
    "          _______)\n",
    "         _______)\n",
    "---.__________)\n",
    "'''\n",
    "\n",
    "scissors = '''\n",
    "    _______\n",
    "---'   ____)____\n",
    "          ______)\n",
    "       __________)\n",
    "      (____)\n",
    "---.__(___)\n",
    "'''\n",
    "\n",
    "\n",
    "images = [rock, paper, scissors] \n",
    "\n",
    "my_choice = int(input(\"What do you choose? Type 0 for Rock, 1 for Paper or 2 for Scissors.\"))\n",
    "print(\"You chose..\\n\")\n",
    "print(images[my_choice])\n",
    "\n",
    "pc_choice = random.randint(0,2)\n",
    "print(\"PC chose..\\n\")\n",
    "print(images[pc_choice])\n",
    "\n",
    "\n",
    "if my_choice > 2 or 0 > my_choice:\n",
    "    print(\"Please enter number correctly again..\")\n",
    "elif my_choice == 0 and pc_choice == 2:\n",
    "    print(\"You win..\")\n",
    "elif my_choice == 1 and pc_choice == 0:\n",
    "    print(\"You win..\")\n",
    "elif my_choice == 2 and pc_choice == 1:\n",
    "    print(\"You win..\")\n",
    "elif pc_choice == my_choice:\n",
    "    print(\"It's a draw\")\n",
    "else:\n",
    "    print(\"You lose\")\n",
    "\n",
    "\n",
    "\n",
    "\n"
   ]
  },
  {
   "cell_type": "markdown",
   "id": "15c2afd0",
   "metadata": {},
   "source": [
    "## Loops \n",
    "\n",
    "### Average Student Height "
   ]
  },
  {
   "cell_type": "code",
   "execution_count": 133,
   "id": "e019488c",
   "metadata": {},
   "outputs": [
    {
     "name": "stdout",
     "output_type": "stream",
     "text": [
      "1154\n",
      "7\n",
      "165\n"
     ]
    }
   ],
   "source": [
    "'''student_heights = input(\"Input a list of student heights \").split()\n",
    "for n in range(0, len(student_heights)):\n",
    "  student_heights[n] = int(student_heights[n])\n",
    "print(student_heights)\n",
    "'''\n",
    "\n",
    "student_heights = [169, 178, 198, 156, 149, 203, 101]\n",
    "\n",
    "total = 0\n",
    "\n",
    "for i in student_heights:\n",
    "    total += i\n",
    "print(total)\n",
    "\n",
    "number_student = 0\n",
    "\n",
    "for k in student_heights:\n",
    "    number_student += 1\n",
    "print(number_student)\n",
    "\n",
    "print(round(total/number_student))"
   ]
  },
  {
   "cell_type": "markdown",
   "id": "c3218278",
   "metadata": {},
   "source": [
    "### Highest Score"
   ]
  },
  {
   "cell_type": "code",
   "execution_count": 134,
   "id": "219302b5",
   "metadata": {},
   "outputs": [
    {
     "name": "stdout",
     "output_type": "stream",
     "text": [
      "Input a list of student scores 34 56 89 11 05 99\n",
      "[34, 56, 89, 11, 5, 99]\n",
      "The highest score is 99\n"
     ]
    }
   ],
   "source": [
    "student_scores = input(\"Input a list of student scores \").split()\n",
    "student_scores = [int(i) for i in student_scores]\n",
    "print(student_scores)\n",
    "\n",
    "highest = student_scores[0]\n",
    "\n",
    "for i in student_scores:\n",
    "    if i > highest:\n",
    "        highest = i\n",
    "print(f\"The highest score is {highest}\")"
   ]
  },
  {
   "cell_type": "code",
   "execution_count": null,
   "id": "7f324f65",
   "metadata": {},
   "outputs": [],
   "source": []
  }
 ],
 "metadata": {
  "kernelspec": {
   "display_name": "Python 3 (ipykernel)",
   "language": "python",
   "name": "python3"
  },
  "language_info": {
   "codemirror_mode": {
    "name": "ipython",
    "version": 3
   },
   "file_extension": ".py",
   "mimetype": "text/x-python",
   "name": "python",
   "nbconvert_exporter": "python",
   "pygments_lexer": "ipython3",
   "version": "3.9.7"
  }
 },
 "nbformat": 4,
 "nbformat_minor": 5
}
