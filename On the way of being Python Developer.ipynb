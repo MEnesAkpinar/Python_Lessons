{
 "cells": [
  {
   "cell_type": "markdown",
   "id": "c107d9e4",
   "metadata": {},
   "source": [
    "# On the way of being Python Developer..."
   ]
  },
  {
   "cell_type": "markdown",
   "id": "78bec9c5",
   "metadata": {},
   "source": [
    "### Odd or Even Number"
   ]
  },
  {
   "cell_type": "code",
   "execution_count": 80,
   "id": "fefd94a6",
   "metadata": {},
   "outputs": [
    {
     "name": "stdout",
     "output_type": "stream",
     "text": [
      "which number do you want to check ?45\n",
      "The number is a odd number\n"
     ]
    }
   ],
   "source": [
    "number = int(input(\"which number do you want to check ?\"))\n",
    "if number % 2 == 0 :\n",
    "    print(\"The number is a even number\")\n",
    "else:\n",
    "    print(\"The number is a odd number\")"
   ]
  },
  {
   "cell_type": "markdown",
   "id": "fad51cdd",
   "metadata": {},
   "source": [
    "### Leap Number"
   ]
  },
  {
   "cell_type": "code",
   "execution_count": 81,
   "id": "8dcd21f4",
   "metadata": {},
   "outputs": [
    {
     "name": "stdout",
     "output_type": "stream",
     "text": [
      "Which year do you want to check ?2100\n",
      "Not Leap Year\n"
     ]
    }
   ],
   "source": [
    "year = int(input(\"Which year do you want to check ?\"))\n",
    "\n",
    "if year % 4 == 0:\n",
    "    if year % 100 != 0:\n",
    "        print(\"Leap Year\")\n",
    "    elif year % 100 == 0 and year % 400 == 0:\n",
    "        print(\"Leap Year\")\n",
    "    else:\n",
    "        print(\"Not Leap Year\")\n",
    "else:\n",
    "    print(\"Not Leap Year\")\n",
    "   "
   ]
  },
  {
   "cell_type": "markdown",
   "id": "669aa63c",
   "metadata": {},
   "source": [
    "### Pizza Order"
   ]
  },
  {
   "cell_type": "code",
   "execution_count": null,
   "id": "bf7363ae",
   "metadata": {},
   "outputs": [],
   "source": [
    "Small Pizza: $15\n",
    "\n",
    "Medium Pizza: $20\n",
    "    \n",
    "Large Pizza: $25\n",
    "    \n",
    "Pepperoni for Small Pizza: +$2\n",
    "    \n",
    "Pepperoni for Medium or Large Pizza: +$3\n",
    "    \n",
    "Extra cheese for any size pizza: + $1"
   ]
  },
  {
   "cell_type": "code",
   "execution_count": 83,
   "id": "bf08f0da",
   "metadata": {},
   "outputs": [
    {
     "name": "stdout",
     "output_type": "stream",
     "text": [
      "Welcome the Python Pizza Deliveries\n",
      "Small Size: 'S'\n",
      "Medium Size: 'M'\n",
      "Large Size: 'L'\n",
      "Please enter the your size of Pizza:y\n",
      "Yes :'Y'  or No : 'N'\n",
      "Do you want to add Pepperoni ?n\n",
      "Yes :'Y'  or No : 'N'\n",
      "Do you want extra cheese ?n\n",
      "Please enter correct size\n"
     ]
    }
   ],
   "source": [
    "print(\"Welcome the Python Pizza Deliveries\")\n",
    "\n",
    "size = input(\"Small Size: 'S'\\nMedium Size: 'M'\\nLarge Size: 'L'\\nPlease enter the your size of Pizza:\")\n",
    "\n",
    "add_pepperoni = input(\"Yes :'Y'  or No : 'N'\\nDo you want to add Pepperoni ?\")\n",
    "        \n",
    "extra_cheese = input(\"Yes :'Y'  or No : 'N'\\nDo you want extra cheese ?\")\n",
    "\n",
    "S = 15\n",
    "M = 20\n",
    "L = 25\n",
    "\n",
    "P_S = 2\n",
    "P_M_L = 3\n",
    "\n",
    "E = 1\n",
    "\n",
    "\n",
    "\n",
    "if size == 'S':\n",
    "    if add_pepperoni == 'Y':\n",
    "        if extra_cheese == 'Y':\n",
    "            print(f\"Your final bill is: ${S + P_S + E}\")\n",
    "        else:\n",
    "            print(f\"Your final bill is: ${S + P_S}\")\n",
    "    elif add_pepperoni == 'N' and extra_cheese == 'Y':\n",
    "        print(f\"Your final bill is: ${S + E}\")\n",
    "    else:\n",
    "        print(f\"Your final bill is: ${S}\")\n",
    "\n",
    "elif size == 'M':\n",
    "    if add_pepperoni == 'Y':\n",
    "        if extra_cheese == 'Y':\n",
    "            print(f\"Your final bill is: ${M + P_M_L + E}\")\n",
    "        else:\n",
    "            print(f\"Your final bill is: ${M + P_M_L}\")\n",
    "    elif add_pepperoni == 'N' and extra_cheese == 'Y':\n",
    "        print(f\"Your final bill is: ${M + E}\")\n",
    "    else:\n",
    "        print(f\"Your final bill is: ${M}\")\n",
    "    \n",
    "elif size == 'L':\n",
    "    if add_pepperoni == 'Y':\n",
    "        if extra_cheese == 'Y':\n",
    "            print(f\"Your final bill is: ${L + P_M_L + E}\")\n",
    "        else:\n",
    "            print(f\"Your final bill is: ${L + P_M_L}\")\n",
    "    elif add_pepperoni == 'N' and extra_cheese == 'Y':\n",
    "        print(f\"Your final bill is: ${L + E}\")\n",
    "    else:\n",
    "        print(f\"Your final bill is: ${L}\")\n",
    "    \n",
    "else:\n",
    "    print(\"Please enter correct size\")"
   ]
  },
  {
   "cell_type": "code",
   "execution_count": null,
   "id": "08ee4be1",
   "metadata": {},
   "outputs": [],
   "source": [
    "# Below code is clearer. Check please..."
   ]
  },
  {
   "cell_type": "code",
   "execution_count": 88,
   "id": "57778f57",
   "metadata": {},
   "outputs": [
    {
     "name": "stdout",
     "output_type": "stream",
     "text": [
      "Welcome the Python Pizza Deliveries\n",
      "Small Size: 'S'\n",
      "Medium Size: 'M'\n",
      "Large Size: 'L'\n",
      "Please enter the your size of Pizza:M\n",
      "Yes :'Y'  or No : 'N'\n",
      "Do you want to add Pepperoni ?Y\n",
      "Yes :'Y'  or No : 'N'\n",
      "Do you want extra cheese ?N\n",
      "Your final bill is: $23\n"
     ]
    }
   ],
   "source": [
    "print(\"Welcome the Python Pizza Deliveries\")\n",
    "\n",
    "size = input(\"Small Size: 'S'\\nMedium Size: 'M'\\nLarge Size: 'L'\\nPlease enter the your size of Pizza:\")\n",
    "\n",
    "add_pepperoni = input(\"Yes :'Y'  or No : 'N'\\nDo you want to add Pepperoni ?\")\n",
    "        \n",
    "extra_cheese = input(\"Yes :'Y'  or No : 'N'\\nDo you want extra cheese ?\")\n",
    "\n",
    "\n",
    "\n",
    "bill = 0\n",
    "\n",
    "\n",
    "if size == 'S':\n",
    "    bill += 15\n",
    "elif size == 'M':\n",
    "    bill += 20\n",
    "else:\n",
    "    bill += 25\n",
    "    \n",
    "if add_pepperoni == 'Y':\n",
    "    if size == 'S':   \n",
    "        bill += 2\n",
    "    else:\n",
    "        bill += 3\n",
    "        \n",
    "if extra_cheese == 'Y':\n",
    "    bill += 1\n",
    "    \n",
    "print(f\"Your final bill is: ${bill}\")"
   ]
  },
  {
   "cell_type": "markdown",
   "id": "ac5ffeeb",
   "metadata": {},
   "source": [
    "### Love Calculator"
   ]
  },
  {
   "cell_type": "code",
   "execution_count": 4,
   "id": "3672b4b0",
   "metadata": {},
   "outputs": [
    {
     "name": "stdout",
     "output_type": "stream",
     "text": [
      "What is your name ?mustafa\n",
      "What is their name ?enes\n",
      "Your score is 42, you are alright together.\n"
     ]
    }
   ],
   "source": [
    "name1 = input(\"What is your name ?\")\n",
    "\n",
    "name2 = input(\"What is their name ?\")\n",
    "\n",
    "\n",
    "list = []                                                 # combined_names = name1 + name2\n",
    "\n",
    "list.extend(name1.lower() + name2.lower())                # lower_names = combined_names.lower()\n",
    "\n",
    "\n",
    "T = list.count('t')\n",
    "R = list.count('r')\n",
    "U = list.count('u')\n",
    "E = list.count('e')\n",
    "\n",
    "\n",
    "L = list.count('l')\n",
    "O = list.count('o')\n",
    "V = list.count('v')\n",
    "E = list.count('e')\n",
    "\n",
    "count1 = T + R + U + E\n",
    "\n",
    "count2 = L + O + V + E\n",
    "\n",
    "score = int(str(count1) + str(count2))\n",
    "\n",
    "if score < 10 or score > 90:\n",
    "    print(f\"Your score is {score}, you go together like coke and mentos.\")\n",
    "elif score >= 40 and score <= 50:\n",
    "    print(f\"Your score is {score}, you are alright together.\")\n",
    "else:\n",
    "    print(f\"Your score is {score}\")\n"
   ]
  },
  {
   "cell_type": "markdown",
   "id": "589aa769",
   "metadata": {},
   "source": [
    "### Treasure Island"
   ]
  },
  {
   "cell_type": "code",
   "execution_count": 17,
   "id": "dad1b6fb",
   "metadata": {},
   "outputs": [
    {
     "name": "stdout",
     "output_type": "stream",
     "text": [
      "\n",
      "*******************************************************************************\n",
      "          |                   |                  |                     |\n",
      " _________|________________.=\"\"_;=.______________|_____________________|_______\n",
      "|                   |  ,-\"_,=\"\"     `\"=.|                  |\n",
      "|___________________|__\"=._o`\"-._        `\"=.______________|___________________\n",
      "          |                `\"=._o`\"=._      _`\"=._                     |\n",
      " _________|_____________________:=._o \"=._.\"_.-=\"'\"=.__________________|_______\n",
      "|                   |    __.--\" , ; `\"=._o.\" ,-\"\"\"-._ \".   |\n",
      "|___________________|_._\"  ,. .` ` `` ,  `\"-._\"-._   \". '__|___________________\n",
      "          |           |o`\"=._` , \"` `; .\". ,  \"-._\"-._; ;              |\n",
      " _________|___________| ;`-.o`\"=._; .\" ` '`.\"\\` . \"-._ /_______________|_______\n",
      "|                   | |o;    `\"-.o`\"=._``  '` \" ,__.--o;   |\n",
      "|___________________|_| ;     (#) `-.o `\"=.`_.--\"_o.-; ;___|___________________\n",
      "____/______/______/___|o;._    \"      `\".o|o_.--\"    ;o;____/______/______/____\n",
      "/______/______/______/_\"=._o--._        ; | ;        ; ;/______/______/______/_\n",
      "____/______/______/______/__\"=._o--._   ;o|o;     _._;o;____/______/______/____\n",
      "/______/______/______/______/____\"=._o._; | ;_.--\"o.--\"_/______/______/______/_\n",
      "____/______/______/______/______/_____\"=.o|o_.--\"\"___/______/______/______/____\n",
      "/______/______/______/______/______/______/______/______/______/______/_____ /\n",
      "*******************************************************************************\n",
      "\n",
      "Welcome to Treasure Island.\n",
      "Your mission is to find the treasure.\n",
      "You're at a cross road. Where do you want to go? Type \"left\" or \"right\" \n",
      "left\n",
      "Yess.. You are great. Keep going.\n",
      "Let's second obstacle. You've come to a lake. There is an island in the middle of the lake. Type 'wait' to wait for a boat. Type 'swim' to swim across.\n",
      "wait\n",
      "Awasome... You are going very well...\n",
      "You arrive at the island unharmed. There is a house with 3 doors. One 'red', one 'yellow' and one 'blue'. Which colour do you choose?\n",
      "yellow\n",
      "Bravooo... You win...\n"
     ]
    }
   ],
   "source": [
    "print('''\n",
    "*******************************************************************************\n",
    "          |                   |                  |                     |\n",
    " _________|________________.=\"\"_;=.______________|_____________________|_______\n",
    "|                   |  ,-\"_,=\"\"     `\"=.|                  |\n",
    "|___________________|__\"=._o`\"-._        `\"=.______________|___________________\n",
    "          |                `\"=._o`\"=._      _`\"=._                     |\n",
    " _________|_____________________:=._o \"=._.\"_.-=\"'\"=.__________________|_______\n",
    "|                   |    __.--\" , ; `\"=._o.\" ,-\"\"\"-._ \".   |\n",
    "|___________________|_._\"  ,. .` ` `` ,  `\"-._\"-._   \". '__|___________________\n",
    "          |           |o`\"=._` , \"` `; .\". ,  \"-._\"-._; ;              |\n",
    " _________|___________| ;`-.o`\"=._; .\" ` '`.\"\\` . \"-._ /_______________|_______\n",
    "|                   | |o;    `\"-.o`\"=._``  '` \" ,__.--o;   |\n",
    "|___________________|_| ;     (#) `-.o `\"=.`_.--\"_o.-; ;___|___________________\n",
    "____/______/______/___|o;._    \"      `\".o|o_.--\"    ;o;____/______/______/____\n",
    "/______/______/______/_\"=._o--._        ; | ;        ; ;/______/______/______/_\n",
    "____/______/______/______/__\"=._o--._   ;o|o;     _._;o;____/______/______/____\n",
    "/______/______/______/______/____\"=._o._; | ;_.--\"o.--\"_/______/______/______/_\n",
    "____/______/______/______/______/_____\"=.o|o_.--\"\"___/______/______/______/____\n",
    "/______/______/______/______/______/______/______/______/______/______/_____ /\n",
    "*******************************************************************************\n",
    "''')\n",
    "\n",
    "print(\"Welcome to Treasure Island.\")\n",
    "print(\"Your mission is to find the treasure.\")\n",
    "\n",
    "target1 = input('You\\'re at a cross road. Where do you want to go? Type \"left\" or \"right\" \\n').lower()\n",
    "if target1 == 'left':\n",
    "    print('Yess.. You\\'re great. Keep going.')\n",
    "    target2 = input(\"Let's second obstacle. You've come to a lake. There is an island in the middle of the lake. Type 'wait' to wait for a boat. Type 'swim' to swim across.\\n\").lower()\n",
    "    if target2 == 'wait':\n",
    "        print(\"Awasome... You are going very well...\")\n",
    "        target3 = input(\"You arrive at the island unharmed. There is a house with 3 doors. One 'red', one 'yellow' and one 'blue'. Which colour do you choose?\\n\").lower()\n",
    "        if target3 == 'red':\n",
    "            print(\"Burned by fire.\\nGame Over!!!\")\n",
    "        elif target3 == 'blue':\n",
    "            print(\"Eaten by beasts.\\nGame Over!!!\")\n",
    "        elif target3 == 'yellow':\n",
    "            print(\"Bravooo... You win...\")\n",
    "            \n",
    "        else:\n",
    "            print(\"Game Over...\")\n",
    "    else:\n",
    "        print(\"Attacked by trout.\\nGame Over!!!\")\n",
    "else:\n",
    "    print(\"Fall into a hole.\\nGame Over!!!\")"
   ]
  },
  {
   "cell_type": "markdown",
   "id": "3273784a",
   "metadata": {},
   "source": [
    "## Randomisation and Python lists"
   ]
  },
  {
   "cell_type": "code",
   "execution_count": 24,
   "id": "94070bd6",
   "metadata": {},
   "outputs": [
    {
     "name": "stdout",
     "output_type": "stream",
     "text": [
      "Heads\n"
     ]
    }
   ],
   "source": [
    "import random\n",
    "\n",
    "\n",
    "random_size = random.randint(0,1)\n",
    "\n",
    "if random_size == 1:\n",
    "    print(\"Heads\")\n",
    "else:\n",
    "    print(\"Tails\")"
   ]
  },
  {
   "cell_type": "markdown",
   "id": "82c7f12a",
   "metadata": {},
   "source": [
    "### Treasue Map"
   ]
  },
  {
   "cell_type": "code",
   "execution_count": 23,
   "id": "3e7d8227",
   "metadata": {},
   "outputs": [
    {
     "name": "stdout",
     "output_type": "stream",
     "text": [
      "['⬜️', '⬜️', '⬜️']\n",
      "['⬜️', '⬜️', '⬜️']\n",
      "['⬜️', '⬜️', '⬜️']\n",
      "Where do you want to put the treasure? 32\n",
      "['⬜️', '⬜️', '⬜️']\n",
      "['⬜️', '⬜️', 'X']\n",
      "['⬜️', '⬜️', '⬜️']\n"
     ]
    }
   ],
   "source": [
    "row1 = [\"⬜️\",\"⬜️\",\"⬜️\"]\n",
    "row2 = [\"⬜️\",\"⬜️\",\"⬜️\"]\n",
    "row3 = [\"⬜️\",\"⬜️\",\"⬜️\"]\n",
    "\n",
    "map = [row1, row2, row3]\n",
    "\n",
    "\n",
    "\n",
    "print(f\"{row1}\\n{row2}\\n{row3}\")\n",
    "\n",
    "position = input(\"Where do you want to put the treasure? \")\n",
    "\n",
    "horizonal = position[0]    \n",
    "\n",
    "vertical = position[1]\n",
    "\n",
    "selected_row = map[int(vertical) - 1]               #map[int(vertical) - 1][int(horizonal) - 1] =\"X\"\n",
    "selected_row[int(horizonal) - 1] = \"X\"\n",
    "\n",
    "print(f\"{row1}\\n{row2}\\n{row3}\")"
   ]
  },
  {
   "cell_type": "markdown",
   "id": "a9a1b382",
   "metadata": {},
   "source": [
    "### Rock Paper Scissors "
   ]
  },
  {
   "cell_type": "code",
   "execution_count": 18,
   "id": "d2065563",
   "metadata": {},
   "outputs": [
    {
     "name": "stdout",
     "output_type": "stream",
     "text": [
      "What do you choose? Type 0 for Rock, 1 for Paper or 2 for Scissors.2\n",
      "You chose..\n",
      "\n",
      "\n",
      "    _______\n",
      "---'   ____)____\n",
      "          ______)\n",
      "       __________)\n",
      "      (____)\n",
      "---.__(___)\n",
      "\n",
      "PC chose..\n",
      "\n",
      "\n",
      "    _______\n",
      "---'   ____)____\n",
      "          ______)\n",
      "          _______)\n",
      "         _______)\n",
      "---.__________)\n",
      "\n",
      "You win..\n"
     ]
    }
   ],
   "source": [
    "import random\n",
    "\n",
    "rock = '''\n",
    "    _______\n",
    "---'   ____)\n",
    "      (_____)\n",
    "      (_____)\n",
    "      (____)\n",
    "---.__(___)\n",
    "'''\n",
    "\n",
    "paper = '''\n",
    "    _______\n",
    "---'   ____)____\n",
    "          ______)\n",
    "          _______)\n",
    "         _______)\n",
    "---.__________)\n",
    "'''\n",
    "\n",
    "scissors = '''\n",
    "    _______\n",
    "---'   ____)____\n",
    "          ______)\n",
    "       __________)\n",
    "      (____)\n",
    "---.__(___)\n",
    "'''\n",
    "\n",
    "\n",
    "images = [rock, paper, scissors] \n",
    "\n",
    "my_choice = int(input(\"What do you choose? Type 0 for Rock, 1 for Paper or 2 for Scissors.\"))\n",
    "print(\"You chose..\\n\")\n",
    "print(images[my_choice])\n",
    "\n",
    "pc_choice = random.randint(0,2)\n",
    "print(\"PC chose..\\n\")\n",
    "print(images[pc_choice])\n",
    "\n",
    "\n",
    "if my_choice > 2 or 0 > my_choice:\n",
    "    print(\"Please enter number correctly again..\")\n",
    "elif my_choice == 0 and pc_choice == 2:\n",
    "    print(\"You win..\")\n",
    "elif my_choice == 1 and pc_choice == 0:\n",
    "    print(\"You win..\")\n",
    "elif my_choice == 2 and pc_choice == 1:\n",
    "    print(\"You win..\")\n",
    "elif pc_choice == my_choice:\n",
    "    print(\"It's a draw\")\n",
    "else:\n",
    "    print(\"You lose\")\n",
    "\n",
    "\n",
    "\n",
    "\n"
   ]
  },
  {
   "cell_type": "markdown",
   "id": "15c2afd0",
   "metadata": {},
   "source": [
    "## Loops \n",
    "\n",
    "### Average Student Height "
   ]
  },
  {
   "cell_type": "code",
   "execution_count": 133,
   "id": "e019488c",
   "metadata": {},
   "outputs": [
    {
     "name": "stdout",
     "output_type": "stream",
     "text": [
      "1154\n",
      "7\n",
      "165\n"
     ]
    }
   ],
   "source": [
    "'''student_heights = input(\"Input a list of student heights \").split()\n",
    "for n in range(0, len(student_heights)):\n",
    "  student_heights[n] = int(student_heights[n])\n",
    "print(student_heights)\n",
    "'''\n",
    "\n",
    "student_heights = [169, 178, 198, 156, 149, 203, 101]\n",
    "\n",
    "total = 0\n",
    "\n",
    "for i in student_heights:\n",
    "    total += i\n",
    "print(total)\n",
    "\n",
    "number_student = 0\n",
    "\n",
    "for k in student_heights:\n",
    "    number_student += 1\n",
    "print(number_student)\n",
    "\n",
    "print(round(total/number_student))"
   ]
  },
  {
   "cell_type": "markdown",
   "id": "c3218278",
   "metadata": {},
   "source": [
    "### Highest Score"
   ]
  },
  {
   "cell_type": "code",
   "execution_count": 134,
   "id": "219302b5",
   "metadata": {},
   "outputs": [
    {
     "name": "stdout",
     "output_type": "stream",
     "text": [
      "Input a list of student scores 34 56 89 11 05 99\n",
      "[34, 56, 89, 11, 5, 99]\n",
      "The highest score is 99\n"
     ]
    }
   ],
   "source": [
    "student_scores = input(\"Input a list of student scores \").split()\n",
    "student_scores = [int(i) for i in student_scores]\n",
    "print(student_scores)\n",
    "\n",
    "highest = student_scores[0]\n",
    "\n",
    "for i in student_scores:\n",
    "    if i > highest:\n",
    "        highest = i\n",
    "print(f\"The highest score is {highest}\")"
   ]
  },
  {
   "cell_type": "markdown",
   "id": "be7f325f",
   "metadata": {},
   "source": [
    "### Sum of All Even Numbers"
   ]
  },
  {
   "cell_type": "code",
   "execution_count": 14,
   "id": "16b22f9b",
   "metadata": {},
   "outputs": [
    {
     "name": "stdout",
     "output_type": "stream",
     "text": [
      "2550\n"
     ]
    }
   ],
   "source": [
    "total = 0\n",
    "for i in range(2,102,2):\n",
    "    total += i\n",
    "print(total)\n"
   ]
  },
  {
   "cell_type": "markdown",
   "id": "f117286e",
   "metadata": {},
   "source": [
    "### FizzBuzz Numbers"
   ]
  },
  {
   "cell_type": "code",
   "execution_count": 22,
   "id": "28ee3b62",
   "metadata": {},
   "outputs": [
    {
     "name": "stdout",
     "output_type": "stream",
     "text": [
      "1\n",
      "2\n",
      "Fizz\n",
      "4\n",
      "Buzz\n",
      "Fizz\n",
      "7\n",
      "8\n",
      "Fizz\n",
      "Buzz\n",
      "11\n",
      "Fizz\n",
      "13\n",
      "14\n",
      "FizzBuzz\n",
      "16\n",
      "17\n",
      "Fizz\n",
      "19\n",
      "Buzz\n",
      "Fizz\n",
      "22\n",
      "23\n",
      "Fizz\n",
      "Buzz\n",
      "26\n",
      "Fizz\n",
      "28\n",
      "29\n",
      "FizzBuzz\n",
      "31\n",
      "32\n",
      "Fizz\n",
      "34\n",
      "Buzz\n",
      "Fizz\n",
      "37\n",
      "38\n",
      "Fizz\n",
      "Buzz\n",
      "41\n",
      "Fizz\n",
      "43\n",
      "44\n",
      "FizzBuzz\n",
      "46\n",
      "47\n",
      "Fizz\n",
      "49\n",
      "Buzz\n",
      "Fizz\n",
      "52\n",
      "53\n",
      "Fizz\n",
      "Buzz\n",
      "56\n",
      "Fizz\n",
      "58\n",
      "59\n",
      "FizzBuzz\n",
      "61\n",
      "62\n",
      "Fizz\n",
      "64\n",
      "Buzz\n",
      "Fizz\n",
      "67\n",
      "68\n",
      "Fizz\n",
      "Buzz\n",
      "71\n",
      "Fizz\n",
      "73\n",
      "74\n",
      "FizzBuzz\n",
      "76\n",
      "77\n",
      "Fizz\n",
      "79\n",
      "Buzz\n",
      "Fizz\n",
      "82\n",
      "83\n",
      "Fizz\n",
      "Buzz\n",
      "86\n",
      "Fizz\n",
      "88\n",
      "89\n",
      "FizzBuzz\n",
      "91\n",
      "92\n",
      "Fizz\n",
      "94\n",
      "Buzz\n",
      "Fizz\n",
      "97\n",
      "98\n",
      "Fizz\n",
      "Buzz\n"
     ]
    }
   ],
   "source": [
    "for i in range(1,101):\n",
    "    if i % 3 == 0 and i % 5 == 0:\n",
    "        print(\"FizzBuzz\")\n",
    "    elif i % 3 == 0:\n",
    "        print(\"Fizz\")\n",
    "    elif i % 5 == 0:\n",
    "        print(\"Buzz\")\n",
    "    else:\n",
    "        print(i)\n",
    "    "
   ]
  },
  {
   "cell_type": "markdown",
   "id": "97e0b209",
   "metadata": {},
   "source": [
    "### Password Generator"
   ]
  },
  {
   "cell_type": "code",
   "execution_count": 42,
   "id": "c52da82a",
   "metadata": {},
   "outputs": [
    {
     "name": "stdout",
     "output_type": "stream",
     "text": [
      "['a', 'b', 'c', 'd', 'e', 'f', 'g', 'h', 'i', 'j', 'k', 'l', 'm', 'n', 'o', 'p', 'q', 'r', 's', 't', 'u', 'v', 'w', 'x', 'y', 'z', 'A', 'B', 'C', 'D', 'E', 'F', 'G', 'H', 'I', 'J', 'K', 'L', 'M', 'N', 'O', 'P', 'Q', 'R', 'S', 'T', 'U', 'V', 'W', 'X', 'Y', 'Z', '!', '#', '$', '%', '&', '(', ')', '*', '+', '0', '1', '2', '3', '4', '5', '6', '7', '8', '9']\n"
     ]
    }
   ],
   "source": [
    "import random\n",
    "letters = ['a', 'b', 'c', 'd', 'e', 'f', 'g', 'h', 'i', 'j', 'k', 'l', 'm', 'n', 'o', 'p', 'q', 'r', 's', 't', 'u', 'v', 'w', 'x', 'y', 'z', 'A', 'B', 'C', 'D', 'E', 'F', 'G', 'H', 'I', 'J', 'K', 'L', 'M', 'N', 'O', 'P', 'Q', 'R', 'S', 'T', 'U', 'V', 'W', 'X', 'Y', 'Z']\n",
    "numbers = ['0', '1', '2', '3', '4', '5', '6', '7', '8', '9']\n",
    "symbols = ['!', '#', '$', '%', '&', '(', ')', '*', '+']\n",
    "\n",
    "all = [y for x in [letters, symbols, numbers] for y in x]\n",
    "\n",
    "print(all)"
   ]
  },
  {
   "cell_type": "code",
   "execution_count": 47,
   "id": "25433b32",
   "metadata": {},
   "outputs": [
    {
     "name": "stdout",
     "output_type": "stream",
     "text": [
      "Welcome to the PyPassword Generator!\n",
      "How many letters would you like in your password?\n",
      "3\n",
      "How many symbols would you like?\n",
      "4\n",
      "How many numbers would you like?\n",
      "5\n"
     ]
    },
    {
     "data": {
      "text/plain": [
       "'+I!y&46i)628'"
      ]
     },
     "execution_count": 47,
     "metadata": {},
     "output_type": "execute_result"
    }
   ],
   "source": [
    "print(\"Welcome to the PyPassword Generator!\")\n",
    "nr_letters= int(input(\"How many letters would you like in your password?\\n\")) \n",
    "nr_symbols = int(input(f\"How many symbols would you like?\\n\"))\n",
    "nr_numbers = int(input(f\"How many numbers would you like?\\n\"))\n",
    "\n",
    "letter = random.choices(letters, k = nr_letters)\n",
    "symbol = random.choices(symbols, k = nr_symbols)\n",
    "number = random.choices(numbers, k = nr_numbers)\n",
    "\n",
    "\n",
    "password = [y for x in [letter, symbol, number] for y in x]\n",
    "\n",
    "random.shuffle(password)\n",
    "\n",
    "''.join(str(i) for i in password) \n",
    "\n",
    "\n",
    "\n",
    "\n",
    "#With by Another Way...\n",
    "\n",
    "# password = []\n",
    "\n",
    "#for char in range(1, nr_letters + 1):\n",
    "#  password.append(random.choice(letters))\n",
    "\n",
    "#for char in range(1, nr_symbols + 1):\n",
    "#  password += random.choice(symbols)\n",
    "\n",
    "#for char in range(1, nr_numbers + 1):\n",
    "#  password += random.choice(numbers)\n",
    "\n",
    "#print(password_list)\n",
    "#random.shuffle(password_list)\n",
    "#print(password_list)\n",
    "\n",
    "#password = \"\"\n",
    "#for char in password_list:\n",
    "#  password += char\n",
    "\n",
    "#print(f\"Your password is: {password}\")\n",
    "\n"
   ]
  },
  {
   "cell_type": "markdown",
   "id": "26bea283",
   "metadata": {},
   "source": [
    "### HangMan Game"
   ]
  },
  {
   "cell_type": "code",
   "execution_count": null,
   "id": "25ad1ff6",
   "metadata": {},
   "outputs": [],
   "source": []
  },
  {
   "cell_type": "markdown",
   "id": "edec7e8b",
   "metadata": {},
   "source": [
    "### Paint Area"
   ]
  },
  {
   "cell_type": "code",
   "execution_count": null,
   "id": "e7c94197",
   "metadata": {},
   "outputs": [],
   "source": []
  },
  {
   "cell_type": "markdown",
   "id": "7a59a51d",
   "metadata": {},
   "source": [
    "### Prime Number"
   ]
  },
  {
   "cell_type": "code",
   "execution_count": null,
   "id": "9af55003",
   "metadata": {},
   "outputs": [],
   "source": []
  },
  {
   "cell_type": "markdown",
   "id": "5ecf7299",
   "metadata": {},
   "source": [
    "### Caesar-Cipher"
   ]
  },
  {
   "cell_type": "code",
   "execution_count": 103,
   "id": "fd786cde",
   "metadata": {},
   "outputs": [
    {
     "name": "stdout",
     "output_type": "stream",
     "text": [
      "Type 'encode' to encrypt, type 'decode' to decrypt:\n",
      "encode\n",
      "Type your message:\n",
      "hello\n",
      "Type the shift number:\n",
      "5\n",
      "The encode text is mjqqt\n",
      "Type 'yes' if you want to go again. Otherwise type 'no'\n",
      "np\n",
      "Type 'encode' to encrypt, type 'decode' to decrypt:\n",
      "encode\n",
      "Type your message:\n",
      "hello\n",
      "Type the shift number:\n",
      "5\n",
      "The encode text is mjqqt\n",
      "Type 'yes' if you want to go again. Otherwise type 'no'\n",
      "no\n",
      "Goodbye...\n"
     ]
    }
   ],
   "source": [
    "#from art import logo\n",
    "\n",
    "alphabet = ['a', 'b', 'c', 'd', 'e', 'f', 'g', 'h', 'i', 'j', 'k', 'l', 'm', 'n', 'o', 'p', 'q', 'r', 's', 't', 'u', 'v', 'w', 'x', 'y', 'z']\n",
    "\n",
    "#print(logo)\n",
    "\n",
    "should_continue = True\n",
    "\n",
    "while should_continue:\n",
    "    direction = input(\"Type 'encode' to encrypt, type 'decode' to decrypt:\\n\")\n",
    "    text = input(\"Type your message:\\n\").lower()\n",
    "    shift = int(input(\"Type the shift number:\\n\"))\n",
    "\n",
    "    def caesar(start_text, shift_amount, cipher_direction):\n",
    "        end_text = \"\"\n",
    "        if cipher_direction == \"decode\":\n",
    "            shift_amount *= -1\n",
    "        for char in start_text:\n",
    "            if char in alphabet:\n",
    "                position = alphabet.index(char)\n",
    "                new_position = (position + shift_amount) % len(alphabet)\n",
    "                end_text += alphabet[new_position]\n",
    "            else:\n",
    "                end_text += char        \n",
    "        print(f\"The {cipher_direction} text is {end_text}\")\n",
    "\n",
    "    caesar(start_text=text, shift_amount=shift, cipher_direction=direction)\n",
    "\n",
    "    answer = input(\"Type 'yes' if you want to go again. Otherwise type 'no'\\n\").lower()\n",
    "    if answer == \"no\":\n",
    "        should_continue = False\n",
    "        print(\"Goodbye...\")\n"
   ]
  },
  {
   "cell_type": "markdown",
   "id": "31de08d2",
   "metadata": {},
   "source": [
    "## Dictionaries & Nesting"
   ]
  },
  {
   "cell_type": "code",
   "execution_count": 107,
   "id": "e3e8bfb9",
   "metadata": {},
   "outputs": [],
   "source": [
    "programming_dictionary = {\"Bug\": \"An error in a program that prevents the program from running as expected.\", \n",
    "                          \"Function\": \"A piece of code that you can easily call over and over again.\"}"
   ]
  },
  {
   "cell_type": "code",
   "execution_count": 112,
   "id": "75e4c641",
   "metadata": {},
   "outputs": [
    {
     "name": "stdout",
     "output_type": "stream",
     "text": [
      "An error in a program that prevents the program from running as expected.\n"
     ]
    }
   ],
   "source": [
    "print(programming_dictionary[\"Bug\"])"
   ]
  },
  {
   "cell_type": "code",
   "execution_count": 113,
   "id": "230f53c9",
   "metadata": {},
   "outputs": [],
   "source": [
    "programming_dictionary[\"Loop\"] = \"The action of doing something over and again.\""
   ]
  },
  {
   "cell_type": "code",
   "execution_count": 114,
   "id": "db9aa439",
   "metadata": {},
   "outputs": [
    {
     "data": {
      "text/plain": [
       "{'Bug': 'An error in a program that prevents the program from running as expected.',\n",
       " 'Function': 'A piece of code that you can easily call over and over again.',\n",
       " 'Loop': 'The action of doing something over and again.'}"
      ]
     },
     "execution_count": 114,
     "metadata": {},
     "output_type": "execute_result"
    }
   ],
   "source": [
    "programming_dictionary"
   ]
  },
  {
   "cell_type": "code",
   "execution_count": 115,
   "id": "00b8cb5f",
   "metadata": {},
   "outputs": [],
   "source": [
    "empty_dict = {}"
   ]
  },
  {
   "cell_type": "code",
   "execution_count": 116,
   "id": "4df8b775",
   "metadata": {},
   "outputs": [
    {
     "data": {
      "text/plain": [
       "{}"
      ]
     },
     "execution_count": 116,
     "metadata": {},
     "output_type": "execute_result"
    }
   ],
   "source": [
    "empty_dict"
   ]
  },
  {
   "cell_type": "code",
   "execution_count": 121,
   "id": "d04c0374",
   "metadata": {},
   "outputs": [
    {
     "name": "stdout",
     "output_type": "stream",
     "text": [
      "Bug\n",
      "An error in a program that prevents the program from running as expected.\n",
      "\tHelloo\n",
      "Function\n",
      "A piece of code that you can easily call over and over again.\n",
      "\tHelloo\n",
      "Loop\n",
      "The action of doing something over and again.\n",
      "\tHelloo\n"
     ]
    }
   ],
   "source": [
    "for key in programming_dictionary:\n",
    "    print(key)\n",
    "    print(programming_dictionary[key])\n",
    "    print(\"\\tHelloo\")"
   ]
  },
  {
   "cell_type": "markdown",
   "id": "afb941e7",
   "metadata": {},
   "source": [
    "### Grading Program"
   ]
  },
  {
   "cell_type": "code",
   "execution_count": null,
   "id": "9f8c6d7e",
   "metadata": {},
   "outputs": [],
   "source": [
    "student_scores = {\n",
    "  \"Harry\": 81,\n",
    "  \"Ron\": 78,\n",
    "  \"Hermione\": 99, \n",
    "  \"Draco\": 74,\n",
    "  \"Neville\": 62,\n",
    "}\n",
    "# 🚨 Don't change the code above 👆\n",
    "\n",
    "#TODO-1: Create an empty dictionary called student_grades.\n",
    "\n",
    "\n",
    "#TODO-2: Write your code below to add the grades to student_grades.👇\n",
    "\n",
    "    \n",
    "\n",
    "# 🚨 Don't change the code below 👇\n",
    "print(student_grades)\n"
   ]
  },
  {
   "cell_type": "code",
   "execution_count": null,
   "id": "0c7b874d",
   "metadata": {},
   "outputs": [],
   "source": []
  },
  {
   "cell_type": "code",
   "execution_count": null,
   "id": "c96e219a",
   "metadata": {},
   "outputs": [],
   "source": []
  }
 ],
 "metadata": {
  "kernelspec": {
   "display_name": "Python 3 (ipykernel)",
   "language": "python",
   "name": "python3"
  },
  "language_info": {
   "codemirror_mode": {
    "name": "ipython",
    "version": 3
   },
   "file_extension": ".py",
   "mimetype": "text/x-python",
   "name": "python",
   "nbconvert_exporter": "python",
   "pygments_lexer": "ipython3",
   "version": "3.9.12"
  }
 },
 "nbformat": 4,
 "nbformat_minor": 5
}
