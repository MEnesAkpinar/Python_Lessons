{
 "cells": [
  {
   "cell_type": "markdown",
   "id": "c107d9e4",
   "metadata": {},
   "source": [
    "# On the way of being Python Developer..."
   ]
  },
  {
   "cell_type": "markdown",
   "id": "78bec9c5",
   "metadata": {},
   "source": [
    "### Odd or Even Number"
   ]
  },
  {
   "cell_type": "code",
   "execution_count": 80,
   "id": "fefd94a6",
   "metadata": {},
   "outputs": [
    {
     "name": "stdout",
     "output_type": "stream",
     "text": [
      "which number do you want to check ?45\n",
      "The number is a odd number\n"
     ]
    }
   ],
   "source": [
    "number = int(input(\"which number do you want to check ?\"))\n",
    "if number % 2 == 0 :\n",
    "    print(\"The number is a even number\")\n",
    "else:\n",
    "    print(\"The number is a odd number\")"
   ]
  },
  {
   "cell_type": "markdown",
   "id": "fad51cdd",
   "metadata": {},
   "source": [
    "### Leap Number"
   ]
  },
  {
   "cell_type": "code",
   "execution_count": 81,
   "id": "8dcd21f4",
   "metadata": {},
   "outputs": [
    {
     "name": "stdout",
     "output_type": "stream",
     "text": [
      "Which year do you want to check ?2100\n",
      "Not Leap Year\n"
     ]
    }
   ],
   "source": [
    "year = int(input(\"Which year do you want to check ?\"))\n",
    "\n",
    "if year % 4 == 0:\n",
    "    if year % 100 != 0:\n",
    "        print(\"Leap Year\")\n",
    "    elif year % 100 == 0 and year % 400 == 0:\n",
    "        print(\"Leap Year\")\n",
    "    else:\n",
    "        print(\"Not Leap Year\")\n",
    "else:\n",
    "    print(\"Not Leap Year\")\n",
    "   "
   ]
  },
  {
   "cell_type": "markdown",
   "id": "669aa63c",
   "metadata": {},
   "source": [
    "### Pizza Order"
   ]
  },
  {
   "cell_type": "code",
   "execution_count": null,
   "id": "bf7363ae",
   "metadata": {},
   "outputs": [],
   "source": [
    "Small Pizza: $15\n",
    "\n",
    "Medium Pizza: $20\n",
    "    \n",
    "Large Pizza: $25\n",
    "    \n",
    "Pepperoni for Small Pizza: +$2\n",
    "    \n",
    "Pepperoni for Medium or Large Pizza: +$3\n",
    "    \n",
    "Extra cheese for any size pizza: + $1"
   ]
  },
  {
   "cell_type": "code",
   "execution_count": 83,
   "id": "bf08f0da",
   "metadata": {},
   "outputs": [
    {
     "name": "stdout",
     "output_type": "stream",
     "text": [
      "Welcome the Python Pizza Deliveries\n",
      "Small Size: 'S'\n",
      "Medium Size: 'M'\n",
      "Large Size: 'L'\n",
      "Please enter the your size of Pizza:y\n",
      "Yes :'Y'  or No : 'N'\n",
      "Do you want to add Pepperoni ?n\n",
      "Yes :'Y'  or No : 'N'\n",
      "Do you want extra cheese ?n\n",
      "Please enter correct size\n"
     ]
    }
   ],
   "source": [
    "print(\"Welcome the Python Pizza Deliveries\")\n",
    "\n",
    "size = input(\"Small Size: 'S'\\nMedium Size: 'M'\\nLarge Size: 'L'\\nPlease enter the your size of Pizza:\")\n",
    "\n",
    "add_pepperoni = input(\"Yes :'Y'  or No : 'N'\\nDo you want to add Pepperoni ?\")\n",
    "        \n",
    "extra_cheese = input(\"Yes :'Y'  or No : 'N'\\nDo you want extra cheese ?\")\n",
    "\n",
    "S = 15\n",
    "M = 20\n",
    "L = 25\n",
    "\n",
    "P_S = 2\n",
    "P_M_L = 3\n",
    "\n",
    "E = 1\n",
    "\n",
    "\n",
    "\n",
    "if size == 'S':\n",
    "    if add_pepperoni == 'Y':\n",
    "        if extra_cheese == 'Y':\n",
    "            print(f\"Your final bill is: ${S + P_S + E}\")\n",
    "        else:\n",
    "            print(f\"Your final bill is: ${S + P_S}\")\n",
    "    elif add_pepperoni == 'N' and extra_cheese == 'Y':\n",
    "        print(f\"Your final bill is: ${S + E}\")\n",
    "    else:\n",
    "        print(f\"Your final bill is: ${S}\")\n",
    "\n",
    "elif size == 'M':\n",
    "    if add_pepperoni == 'Y':\n",
    "        if extra_cheese == 'Y':\n",
    "            print(f\"Your final bill is: ${M + P_M_L + E}\")\n",
    "        else:\n",
    "            print(f\"Your final bill is: ${M + P_M_L}\")\n",
    "    elif add_pepperoni == 'N' and extra_cheese == 'Y':\n",
    "        print(f\"Your final bill is: ${M + E}\")\n",
    "    else:\n",
    "        print(f\"Your final bill is: ${M}\")\n",
    "    \n",
    "elif size == 'L':\n",
    "    if add_pepperoni == 'Y':\n",
    "        if extra_cheese == 'Y':\n",
    "            print(f\"Your final bill is: ${L + P_M_L + E}\")\n",
    "        else:\n",
    "            print(f\"Your final bill is: ${L + P_M_L}\")\n",
    "    elif add_pepperoni == 'N' and extra_cheese == 'Y':\n",
    "        print(f\"Your final bill is: ${L + E}\")\n",
    "    else:\n",
    "        print(f\"Your final bill is: ${L}\")\n",
    "    \n",
    "else:\n",
    "    print(\"Please enter correct size\")"
   ]
  },
  {
   "cell_type": "code",
   "execution_count": null,
   "id": "08ee4be1",
   "metadata": {},
   "outputs": [],
   "source": [
    "# Below code is clearer. Check please..."
   ]
  },
  {
   "cell_type": "code",
   "execution_count": 88,
   "id": "57778f57",
   "metadata": {},
   "outputs": [
    {
     "name": "stdout",
     "output_type": "stream",
     "text": [
      "Welcome the Python Pizza Deliveries\n",
      "Small Size: 'S'\n",
      "Medium Size: 'M'\n",
      "Large Size: 'L'\n",
      "Please enter the your size of Pizza:M\n",
      "Yes :'Y'  or No : 'N'\n",
      "Do you want to add Pepperoni ?Y\n",
      "Yes :'Y'  or No : 'N'\n",
      "Do you want extra cheese ?N\n",
      "Your final bill is: $23\n"
     ]
    }
   ],
   "source": [
    "print(\"Welcome the Python Pizza Deliveries\")\n",
    "\n",
    "size = input(\"Small Size: 'S'\\nMedium Size: 'M'\\nLarge Size: 'L'\\nPlease enter the your size of Pizza:\")\n",
    "\n",
    "add_pepperoni = input(\"Yes :'Y'  or No : 'N'\\nDo you want to add Pepperoni ?\")\n",
    "        \n",
    "extra_cheese = input(\"Yes :'Y'  or No : 'N'\\nDo you want extra cheese ?\")\n",
    "\n",
    "\n",
    "\n",
    "bill = 0\n",
    "\n",
    "\n",
    "if size == 'S':\n",
    "    bill += 15\n",
    "elif size == 'M':\n",
    "    bill += 20\n",
    "else:\n",
    "    bill += 25\n",
    "    \n",
    "if add_pepperoni == 'Y':\n",
    "    if size == 'S':   \n",
    "        bill += 2\n",
    "    else:\n",
    "        bill += 3\n",
    "        \n",
    "if extra_cheese == 'Y':\n",
    "    bill += 1\n",
    "    \n",
    "print(f\"Your final bill is: ${bill}\")"
   ]
  },
  {
   "cell_type": "code",
   "execution_count": null,
   "id": "4bb5e8a1",
   "metadata": {},
   "outputs": [],
   "source": []
  },
  {
   "cell_type": "code",
   "execution_count": null,
   "id": "3672b4b0",
   "metadata": {},
   "outputs": [],
   "source": []
  }
 ],
 "metadata": {
  "kernelspec": {
   "display_name": "Python 3 (ipykernel)",
   "language": "python",
   "name": "python3"
  },
  "language_info": {
   "codemirror_mode": {
    "name": "ipython",
    "version": 3
   },
   "file_extension": ".py",
   "mimetype": "text/x-python",
   "name": "python",
   "nbconvert_exporter": "python",
   "pygments_lexer": "ipython3",
   "version": "3.9.7"
  }
 },
 "nbformat": 4,
 "nbformat_minor": 5
}
